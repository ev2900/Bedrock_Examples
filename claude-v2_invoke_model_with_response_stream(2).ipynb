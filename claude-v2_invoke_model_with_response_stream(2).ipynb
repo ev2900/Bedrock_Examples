{
 "cells": [
  {
   "cell_type": "code",
   "execution_count": null,
   "id": "b4dbb23d-6c42-4dfa-a430-86e319647e75",
   "metadata": {
    "tags": []
   },
   "outputs": [],
   "source": [
    "!pip install \"boto3>=1.28.57\"\n",
    "!pip install \"awscli>=1.29.57\"\n",
    "!pip install \"botocore>=1.31.57\""
   ]
  },
  {
   "cell_type": "code",
   "execution_count": 3,
   "id": "da2fde92-e0a6-4883-a86a-5950ab585c4b",
   "metadata": {
    "tags": []
   },
   "outputs": [],
   "source": [
    "import json\n",
    "import boto3"
   ]
  },
  {
   "cell_type": "code",
   "execution_count": 4,
   "id": "ea4a8093-e5bc-4366-9760-8a798bad811a",
   "metadata": {
    "tags": []
   },
   "outputs": [],
   "source": [
    "# Create a boto3 client for the bedrock-runtime\n",
    "client_bedrock_runtime = boto3.client('bedrock-runtime')"
   ]
  },
  {
   "cell_type": "code",
   "execution_count": 5,
   "id": "7f52b7c1-1ca6-4589-bd11-d7bff5195f5f",
   "metadata": {
    "tags": []
   },
   "outputs": [],
   "source": [
    "prompt = '''Write a 500 word essay on why blue is the best color'''"
   ]
  },
  {
   "cell_type": "code",
   "execution_count": 6,
   "id": "ed8708b3-19c6-4eb7-a5f3-f0063fc0a6ea",
   "metadata": {
    "tags": []
   },
   "outputs": [],
   "source": [
    "# Create the body of the request to Anthropic Claud v2\n",
    "req_body = {\n",
    "    \"prompt\": \"\\n\\nHuman:\" + prompt + \"\\n\\nAssistant:\",\n",
    "    \"max_tokens_to_sample\": 1000 #,\n",
    "    #\"temperature\": 0.1,\n",
    "    #\"top_k\": 250,\n",
    "    #\"top_p\": 0.999,\n",
    "    #\"stop_sequences\": [],\n",
    "    #\"anthropic_version\": \"bedrock-2023-05-31\"\n",
    "}\n",
    "\n",
    "req_body = json.dumps(req_body)"
   ]
  },
  {
   "cell_type": "code",
   "execution_count": 7,
   "id": "338e91b9-c34e-4c42-a1c2-92720215092a",
   "metadata": {
    "tags": []
   },
   "outputs": [
    {
     "name": "stdout",
     "output_type": "stream",
     "text": [
      " Here is a 496 word essay on why blue is the best color:\n",
      "\n",
      "Blue is often considered one of the most popular and beloved colors. There are many reasons why blue is the best color. \n",
      "\n",
      "Firstly, blue is associated with openness, peace and tranquility. It evokes feelings of calmness and relaxation. When people see the color blue, it lowers their heart rate and blood pressure. Blue can have a soothing and therapeutic effect which makes it ideal for bedrooms, meditation spaces, and spas. The tranquil qualities of blue explain why it's so commonly found in nature - blue skies and blue water signal peace and harmony. \n",
      "\n",
      "Secondly, blue is universally well-liked. Surveys and studies consistently show that blue is one of the most preferred colors worldwide. Both men and women frequently list blue as their favorite color. Blue appeals to our senses. We're surrounded by blue - the ocean, the sky - and we inherently like looking at blue. It's aesthetically pleasing and easy on the eyes. Blue also has positive associations across cultures. In many Western countries, blue represents stability and professionalism. In China, blue relates to immortality. The prevalent appeal of blue makes it a safe, crowd-pleasing color.\n",
      "\n",
      "Thirdly, blue has multiple useful associations. It's linked with intelligence, trust, efficiency and communication. Studies show that the color blue can improve brain performance. Blue is also the color of loyalty and reliability. Professional services often use blue because it conveys trustworthiness and integrity. Light blues especially promote openness and communication. Blue feels honest, non-threatening and sincere. The constructive meanings associated with blue give it practical applications in everyday life.  \n",
      "\n",
      "Finally, blue is versatile and functional. It has an adaptable nature and range that allows it to work in many contexts. Light sky blues are uplifting, while darker blues are formal and traditional. Bright blues are energetic and dynamic. Navy blue is authoritative and powerful. Blue also draws from the intellectually stimulating qualities of purple and visually calming qualities of green. This makes blue a multifaceted color suitable for different purposes. Blue works excellently as a background color too, enhancing other nearby colors.\n",
      "\n",
      "In summary, the color blue is the best because it promotes peacefulness and tranquility. It's universally appealing and aesthetically pleasing. Blue also provides positive associations with trust, stability and intelligence. Finally, the versatile nature of blue allows it to function in diverse roles and settings. With its beauty, versatility and symbolism, blue truly stands out as the finest color.\n"
     ]
    }
   ],
   "source": [
    "#\n",
    "# Collect stream response and save it to a variable\n",
    "#\n",
    "\n",
    "# Call the anthropic claud v2 model\n",
    "output = client_bedrock_runtime.invoke_model_with_response_stream(body = req_body, modelId=\"anthropic.claude-v2\", accept=\"application/json\", contentType=\"application/json\")\n",
    "\n",
    "# Capture the body of the output\n",
    "stream = output.get('body') \n",
    "stream_output_list = []\n",
    "\n",
    "if stream:\n",
    "    for event in stream:\n",
    "        chunk = event.get('chunk')\n",
    "        if chunk:\n",
    "            chunk_obj = json.loads(chunk.get('bytes').decode())\n",
    "            text = chunk_obj['completion']\n",
    "            stream_output_list.append(text)\n",
    "\n",
    "final_output_string = \"\"\n",
    "\n",
    "for i in stream_output_list:\n",
    "    final_output_string = final_output_string + i\n",
    "    \n",
    "print(final_output_string)"
   ]
  },
  {
   "cell_type": "code",
   "execution_count": 8,
   "id": "f2aaee90-8839-41f9-89c2-1e905d1cf503",
   "metadata": {
    "tags": []
   },
   "outputs": [
    {
     "data": {
      "text/markdown": [
       " Here is a 491 word essay on why blue is the best color:\n",
       "\n",
       "Blue is often considered one of the most popular and beloved colors. There are many reasons why blue is such a great color and deserves the title of \"best color.\" \n",
       "\n",
       "Firstly, blue is associated with many positive meanings and symbolism. For example, blue represents tranquility, stability, wisdom, trust, loyalty, intelligence, truth, and heaven. It has religious significance in both Western and Eastern cultures, with connections to Virgin Mary and Krishna. The expression \"true blue\" refers to things that are genuine and reliable. Blue's positive symbolism spans cultures and time periods, which demonstrates its universal appeal.\n",
       "\n",
       "In nature, blue is the color of wide open skies and deep oceans. It often signifies beauty, calm, and refreshment. A clear blue sky and sea are mesmerizing sights that humans find deeply comforting and attractive. The natural blue tones of water, from light azure to deep indigo, are infinitely variable and glorious to behold. The allure of blue oceans and rivers has drawn people for ages.\n",
       "\n",
       "Scientifically speaking, blue light has unique properties compared to other wavelengths on the visible light spectrum. Shorter blue wavelengths are scattered more by the atmosphere, causing the sky to appear blue during daytime. Blue also has a calming effect biologically. The tranquil blue shades of nature trigger the parasympathetic nervous system to relax. Blue light exposure in the morning helps regulate melatonin and circadian rhythms as well. \n",
       "\n",
       "Culturally, blue is associated with coolness and futurism. It is the preferred color of technology brands, social media platforms, and apps. Blue light from screens signifies cutting edge innovation and connectivity in the digital age. A \"blue sky thinking\" approach also represents forward-looking creativity and freedom. Blue's cultural associations with modernity have solidified its popularity over the centuries.\n",
       "\n",
       "In summary, blue is aesthetically beautiful, rich with positive symbolism, naturally calming, scientifically unique, and culturally progressive. The expansive blue ocean and sky represent the limitless human imagination and potential. Blue shades appeal to people across continents and ages. For all these reasons, blue stands out as a truly special color deserving of the title \"best color.\" Though subjective, blue has a strong case across objective measures for being a universally-loved color and a perennial favorite among humans."
      ]
     },
     "metadata": {},
     "output_type": "display_data"
    }
   ],
   "source": [
    "#\n",
    "# Print stream response in real-time as markdown\n",
    "#\n",
    "\n",
    "from IPython.display import clear_output, display, display_markdown, Markdown\n",
    "\n",
    "# Create the body of the request to Anthropic Claud v2\n",
    "req_body = {\n",
    "    \"prompt\": \"\\n\\nHuman:\" + prompt + \"\\n\\nAssistant:\",\n",
    "    \"max_tokens_to_sample\": 4000 #,\n",
    "    #\"temperature\": 0.1,\n",
    "    #\"top_k\": 250,\n",
    "    #\"top_p\": 0.999,\n",
    "    #\"stop_sequences\": [],\n",
    "    #\"anthropic_version\": \"bedrock-2023-05-31\"\n",
    "}\n",
    "\n",
    "req_body = json.dumps(req_body)\n",
    "\n",
    "# Call the anthropic claud v2 model\n",
    "output = client_bedrock_runtime.invoke_model_with_response_stream(body = req_body, modelId=\"anthropic.claude-v2\", accept=\"application/json\", contentType=\"application/json\")\n",
    "\n",
    "# Capture the body of the output\n",
    "stream = output.get('body') \n",
    "stream_output_list = []\n",
    "\n",
    "if stream:\n",
    "    for event in stream:\n",
    "        chunk = event.get('chunk')\n",
    "        if chunk:\n",
    "            chunk_obj = json.loads(chunk.get('bytes').decode())\n",
    "            text = chunk_obj['completion']\n",
    "            clear_output(wait=True)\n",
    "            stream_output_list.append(text)\n",
    "            display_markdown(Markdown(''.join(stream_output_list)))"
   ]
  }
 ],
 "metadata": {
  "availableInstances": [
   {
    "_defaultOrder": 0,
    "_isFastLaunch": true,
    "category": "General purpose",
    "gpuNum": 0,
    "hideHardwareSpecs": false,
    "memoryGiB": 4,
    "name": "ml.t3.medium",
    "vcpuNum": 2
   },
   {
    "_defaultOrder": 1,
    "_isFastLaunch": false,
    "category": "General purpose",
    "gpuNum": 0,
    "hideHardwareSpecs": false,
    "memoryGiB": 8,
    "name": "ml.t3.large",
    "vcpuNum": 2
   },
   {
    "_defaultOrder": 2,
    "_isFastLaunch": false,
    "category": "General purpose",
    "gpuNum": 0,
    "hideHardwareSpecs": false,
    "memoryGiB": 16,
    "name": "ml.t3.xlarge",
    "vcpuNum": 4
   },
   {
    "_defaultOrder": 3,
    "_isFastLaunch": false,
    "category": "General purpose",
    "gpuNum": 0,
    "hideHardwareSpecs": false,
    "memoryGiB": 32,
    "name": "ml.t3.2xlarge",
    "vcpuNum": 8
   },
   {
    "_defaultOrder": 4,
    "_isFastLaunch": true,
    "category": "General purpose",
    "gpuNum": 0,
    "hideHardwareSpecs": false,
    "memoryGiB": 8,
    "name": "ml.m5.large",
    "vcpuNum": 2
   },
   {
    "_defaultOrder": 5,
    "_isFastLaunch": false,
    "category": "General purpose",
    "gpuNum": 0,
    "hideHardwareSpecs": false,
    "memoryGiB": 16,
    "name": "ml.m5.xlarge",
    "vcpuNum": 4
   },
   {
    "_defaultOrder": 6,
    "_isFastLaunch": false,
    "category": "General purpose",
    "gpuNum": 0,
    "hideHardwareSpecs": false,
    "memoryGiB": 32,
    "name": "ml.m5.2xlarge",
    "vcpuNum": 8
   },
   {
    "_defaultOrder": 7,
    "_isFastLaunch": false,
    "category": "General purpose",
    "gpuNum": 0,
    "hideHardwareSpecs": false,
    "memoryGiB": 64,
    "name": "ml.m5.4xlarge",
    "vcpuNum": 16
   },
   {
    "_defaultOrder": 8,
    "_isFastLaunch": false,
    "category": "General purpose",
    "gpuNum": 0,
    "hideHardwareSpecs": false,
    "memoryGiB": 128,
    "name": "ml.m5.8xlarge",
    "vcpuNum": 32
   },
   {
    "_defaultOrder": 9,
    "_isFastLaunch": false,
    "category": "General purpose",
    "gpuNum": 0,
    "hideHardwareSpecs": false,
    "memoryGiB": 192,
    "name": "ml.m5.12xlarge",
    "vcpuNum": 48
   },
   {
    "_defaultOrder": 10,
    "_isFastLaunch": false,
    "category": "General purpose",
    "gpuNum": 0,
    "hideHardwareSpecs": false,
    "memoryGiB": 256,
    "name": "ml.m5.16xlarge",
    "vcpuNum": 64
   },
   {
    "_defaultOrder": 11,
    "_isFastLaunch": false,
    "category": "General purpose",
    "gpuNum": 0,
    "hideHardwareSpecs": false,
    "memoryGiB": 384,
    "name": "ml.m5.24xlarge",
    "vcpuNum": 96
   },
   {
    "_defaultOrder": 12,
    "_isFastLaunch": false,
    "category": "General purpose",
    "gpuNum": 0,
    "hideHardwareSpecs": false,
    "memoryGiB": 8,
    "name": "ml.m5d.large",
    "vcpuNum": 2
   },
   {
    "_defaultOrder": 13,
    "_isFastLaunch": false,
    "category": "General purpose",
    "gpuNum": 0,
    "hideHardwareSpecs": false,
    "memoryGiB": 16,
    "name": "ml.m5d.xlarge",
    "vcpuNum": 4
   },
   {
    "_defaultOrder": 14,
    "_isFastLaunch": false,
    "category": "General purpose",
    "gpuNum": 0,
    "hideHardwareSpecs": false,
    "memoryGiB": 32,
    "name": "ml.m5d.2xlarge",
    "vcpuNum": 8
   },
   {
    "_defaultOrder": 15,
    "_isFastLaunch": false,
    "category": "General purpose",
    "gpuNum": 0,
    "hideHardwareSpecs": false,
    "memoryGiB": 64,
    "name": "ml.m5d.4xlarge",
    "vcpuNum": 16
   },
   {
    "_defaultOrder": 16,
    "_isFastLaunch": false,
    "category": "General purpose",
    "gpuNum": 0,
    "hideHardwareSpecs": false,
    "memoryGiB": 128,
    "name": "ml.m5d.8xlarge",
    "vcpuNum": 32
   },
   {
    "_defaultOrder": 17,
    "_isFastLaunch": false,
    "category": "General purpose",
    "gpuNum": 0,
    "hideHardwareSpecs": false,
    "memoryGiB": 192,
    "name": "ml.m5d.12xlarge",
    "vcpuNum": 48
   },
   {
    "_defaultOrder": 18,
    "_isFastLaunch": false,
    "category": "General purpose",
    "gpuNum": 0,
    "hideHardwareSpecs": false,
    "memoryGiB": 256,
    "name": "ml.m5d.16xlarge",
    "vcpuNum": 64
   },
   {
    "_defaultOrder": 19,
    "_isFastLaunch": false,
    "category": "General purpose",
    "gpuNum": 0,
    "hideHardwareSpecs": false,
    "memoryGiB": 384,
    "name": "ml.m5d.24xlarge",
    "vcpuNum": 96
   },
   {
    "_defaultOrder": 20,
    "_isFastLaunch": false,
    "category": "General purpose",
    "gpuNum": 0,
    "hideHardwareSpecs": true,
    "memoryGiB": 0,
    "name": "ml.geospatial.interactive",
    "supportedImageNames": [
     "sagemaker-geospatial-v1-0"
    ],
    "vcpuNum": 0
   },
   {
    "_defaultOrder": 21,
    "_isFastLaunch": true,
    "category": "Compute optimized",
    "gpuNum": 0,
    "hideHardwareSpecs": false,
    "memoryGiB": 4,
    "name": "ml.c5.large",
    "vcpuNum": 2
   },
   {
    "_defaultOrder": 22,
    "_isFastLaunch": false,
    "category": "Compute optimized",
    "gpuNum": 0,
    "hideHardwareSpecs": false,
    "memoryGiB": 8,
    "name": "ml.c5.xlarge",
    "vcpuNum": 4
   },
   {
    "_defaultOrder": 23,
    "_isFastLaunch": false,
    "category": "Compute optimized",
    "gpuNum": 0,
    "hideHardwareSpecs": false,
    "memoryGiB": 16,
    "name": "ml.c5.2xlarge",
    "vcpuNum": 8
   },
   {
    "_defaultOrder": 24,
    "_isFastLaunch": false,
    "category": "Compute optimized",
    "gpuNum": 0,
    "hideHardwareSpecs": false,
    "memoryGiB": 32,
    "name": "ml.c5.4xlarge",
    "vcpuNum": 16
   },
   {
    "_defaultOrder": 25,
    "_isFastLaunch": false,
    "category": "Compute optimized",
    "gpuNum": 0,
    "hideHardwareSpecs": false,
    "memoryGiB": 72,
    "name": "ml.c5.9xlarge",
    "vcpuNum": 36
   },
   {
    "_defaultOrder": 26,
    "_isFastLaunch": false,
    "category": "Compute optimized",
    "gpuNum": 0,
    "hideHardwareSpecs": false,
    "memoryGiB": 96,
    "name": "ml.c5.12xlarge",
    "vcpuNum": 48
   },
   {
    "_defaultOrder": 27,
    "_isFastLaunch": false,
    "category": "Compute optimized",
    "gpuNum": 0,
    "hideHardwareSpecs": false,
    "memoryGiB": 144,
    "name": "ml.c5.18xlarge",
    "vcpuNum": 72
   },
   {
    "_defaultOrder": 28,
    "_isFastLaunch": false,
    "category": "Compute optimized",
    "gpuNum": 0,
    "hideHardwareSpecs": false,
    "memoryGiB": 192,
    "name": "ml.c5.24xlarge",
    "vcpuNum": 96
   },
   {
    "_defaultOrder": 29,
    "_isFastLaunch": true,
    "category": "Accelerated computing",
    "gpuNum": 1,
    "hideHardwareSpecs": false,
    "memoryGiB": 16,
    "name": "ml.g4dn.xlarge",
    "vcpuNum": 4
   },
   {
    "_defaultOrder": 30,
    "_isFastLaunch": false,
    "category": "Accelerated computing",
    "gpuNum": 1,
    "hideHardwareSpecs": false,
    "memoryGiB": 32,
    "name": "ml.g4dn.2xlarge",
    "vcpuNum": 8
   },
   {
    "_defaultOrder": 31,
    "_isFastLaunch": false,
    "category": "Accelerated computing",
    "gpuNum": 1,
    "hideHardwareSpecs": false,
    "memoryGiB": 64,
    "name": "ml.g4dn.4xlarge",
    "vcpuNum": 16
   },
   {
    "_defaultOrder": 32,
    "_isFastLaunch": false,
    "category": "Accelerated computing",
    "gpuNum": 1,
    "hideHardwareSpecs": false,
    "memoryGiB": 128,
    "name": "ml.g4dn.8xlarge",
    "vcpuNum": 32
   },
   {
    "_defaultOrder": 33,
    "_isFastLaunch": false,
    "category": "Accelerated computing",
    "gpuNum": 4,
    "hideHardwareSpecs": false,
    "memoryGiB": 192,
    "name": "ml.g4dn.12xlarge",
    "vcpuNum": 48
   },
   {
    "_defaultOrder": 34,
    "_isFastLaunch": false,
    "category": "Accelerated computing",
    "gpuNum": 1,
    "hideHardwareSpecs": false,
    "memoryGiB": 256,
    "name": "ml.g4dn.16xlarge",
    "vcpuNum": 64
   },
   {
    "_defaultOrder": 35,
    "_isFastLaunch": false,
    "category": "Accelerated computing",
    "gpuNum": 1,
    "hideHardwareSpecs": false,
    "memoryGiB": 61,
    "name": "ml.p3.2xlarge",
    "vcpuNum": 8
   },
   {
    "_defaultOrder": 36,
    "_isFastLaunch": false,
    "category": "Accelerated computing",
    "gpuNum": 4,
    "hideHardwareSpecs": false,
    "memoryGiB": 244,
    "name": "ml.p3.8xlarge",
    "vcpuNum": 32
   },
   {
    "_defaultOrder": 37,
    "_isFastLaunch": false,
    "category": "Accelerated computing",
    "gpuNum": 8,
    "hideHardwareSpecs": false,
    "memoryGiB": 488,
    "name": "ml.p3.16xlarge",
    "vcpuNum": 64
   },
   {
    "_defaultOrder": 38,
    "_isFastLaunch": false,
    "category": "Accelerated computing",
    "gpuNum": 8,
    "hideHardwareSpecs": false,
    "memoryGiB": 768,
    "name": "ml.p3dn.24xlarge",
    "vcpuNum": 96
   },
   {
    "_defaultOrder": 39,
    "_isFastLaunch": false,
    "category": "Memory Optimized",
    "gpuNum": 0,
    "hideHardwareSpecs": false,
    "memoryGiB": 16,
    "name": "ml.r5.large",
    "vcpuNum": 2
   },
   {
    "_defaultOrder": 40,
    "_isFastLaunch": false,
    "category": "Memory Optimized",
    "gpuNum": 0,
    "hideHardwareSpecs": false,
    "memoryGiB": 32,
    "name": "ml.r5.xlarge",
    "vcpuNum": 4
   },
   {
    "_defaultOrder": 41,
    "_isFastLaunch": false,
    "category": "Memory Optimized",
    "gpuNum": 0,
    "hideHardwareSpecs": false,
    "memoryGiB": 64,
    "name": "ml.r5.2xlarge",
    "vcpuNum": 8
   },
   {
    "_defaultOrder": 42,
    "_isFastLaunch": false,
    "category": "Memory Optimized",
    "gpuNum": 0,
    "hideHardwareSpecs": false,
    "memoryGiB": 128,
    "name": "ml.r5.4xlarge",
    "vcpuNum": 16
   },
   {
    "_defaultOrder": 43,
    "_isFastLaunch": false,
    "category": "Memory Optimized",
    "gpuNum": 0,
    "hideHardwareSpecs": false,
    "memoryGiB": 256,
    "name": "ml.r5.8xlarge",
    "vcpuNum": 32
   },
   {
    "_defaultOrder": 44,
    "_isFastLaunch": false,
    "category": "Memory Optimized",
    "gpuNum": 0,
    "hideHardwareSpecs": false,
    "memoryGiB": 384,
    "name": "ml.r5.12xlarge",
    "vcpuNum": 48
   },
   {
    "_defaultOrder": 45,
    "_isFastLaunch": false,
    "category": "Memory Optimized",
    "gpuNum": 0,
    "hideHardwareSpecs": false,
    "memoryGiB": 512,
    "name": "ml.r5.16xlarge",
    "vcpuNum": 64
   },
   {
    "_defaultOrder": 46,
    "_isFastLaunch": false,
    "category": "Memory Optimized",
    "gpuNum": 0,
    "hideHardwareSpecs": false,
    "memoryGiB": 768,
    "name": "ml.r5.24xlarge",
    "vcpuNum": 96
   },
   {
    "_defaultOrder": 47,
    "_isFastLaunch": false,
    "category": "Accelerated computing",
    "gpuNum": 1,
    "hideHardwareSpecs": false,
    "memoryGiB": 16,
    "name": "ml.g5.xlarge",
    "vcpuNum": 4
   },
   {
    "_defaultOrder": 48,
    "_isFastLaunch": false,
    "category": "Accelerated computing",
    "gpuNum": 1,
    "hideHardwareSpecs": false,
    "memoryGiB": 32,
    "name": "ml.g5.2xlarge",
    "vcpuNum": 8
   },
   {
    "_defaultOrder": 49,
    "_isFastLaunch": false,
    "category": "Accelerated computing",
    "gpuNum": 1,
    "hideHardwareSpecs": false,
    "memoryGiB": 64,
    "name": "ml.g5.4xlarge",
    "vcpuNum": 16
   },
   {
    "_defaultOrder": 50,
    "_isFastLaunch": false,
    "category": "Accelerated computing",
    "gpuNum": 1,
    "hideHardwareSpecs": false,
    "memoryGiB": 128,
    "name": "ml.g5.8xlarge",
    "vcpuNum": 32
   },
   {
    "_defaultOrder": 51,
    "_isFastLaunch": false,
    "category": "Accelerated computing",
    "gpuNum": 1,
    "hideHardwareSpecs": false,
    "memoryGiB": 256,
    "name": "ml.g5.16xlarge",
    "vcpuNum": 64
   },
   {
    "_defaultOrder": 52,
    "_isFastLaunch": false,
    "category": "Accelerated computing",
    "gpuNum": 4,
    "hideHardwareSpecs": false,
    "memoryGiB": 192,
    "name": "ml.g5.12xlarge",
    "vcpuNum": 48
   },
   {
    "_defaultOrder": 53,
    "_isFastLaunch": false,
    "category": "Accelerated computing",
    "gpuNum": 4,
    "hideHardwareSpecs": false,
    "memoryGiB": 384,
    "name": "ml.g5.24xlarge",
    "vcpuNum": 96
   },
   {
    "_defaultOrder": 54,
    "_isFastLaunch": false,
    "category": "Accelerated computing",
    "gpuNum": 8,
    "hideHardwareSpecs": false,
    "memoryGiB": 768,
    "name": "ml.g5.48xlarge",
    "vcpuNum": 192
   },
   {
    "_defaultOrder": 55,
    "_isFastLaunch": false,
    "category": "Accelerated computing",
    "gpuNum": 8,
    "hideHardwareSpecs": false,
    "memoryGiB": 1152,
    "name": "ml.p4d.24xlarge",
    "vcpuNum": 96
   },
   {
    "_defaultOrder": 56,
    "_isFastLaunch": false,
    "category": "Accelerated computing",
    "gpuNum": 8,
    "hideHardwareSpecs": false,
    "memoryGiB": 1152,
    "name": "ml.p4de.24xlarge",
    "vcpuNum": 96
   }
  ],
  "instance_type": "ml.t3.medium",
  "kernelspec": {
   "display_name": "Python 3 (Data Science 3.0)",
   "language": "python",
   "name": "python3__SAGEMAKER_INTERNAL__arn:aws:sagemaker:us-east-1:081325390199:image/sagemaker-data-science-310-v1"
  },
  "language_info": {
   "codemirror_mode": {
    "name": "ipython",
    "version": 3
   },
   "file_extension": ".py",
   "mimetype": "text/x-python",
   "name": "python",
   "nbconvert_exporter": "python",
   "pygments_lexer": "ipython3",
   "version": "3.10.6"
  }
 },
 "nbformat": 4,
 "nbformat_minor": 5
}
